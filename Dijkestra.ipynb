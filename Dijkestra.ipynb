{
  "nbformat": 4,
  "nbformat_minor": 0,
  "metadata": {
    "colab": {
      "name": "Dijkestra.ipynb",
      "provenance": [],
      "authorship_tag": "ABX9TyObRV+RpDOWGUoPG5Pw4TTQ",
      "include_colab_link": true
    },
    "kernelspec": {
      "name": "python3",
      "display_name": "Python 3"
    },
    "language_info": {
      "name": "python"
    }
  },
  "cells": [
    {
      "cell_type": "markdown",
      "metadata": {
        "id": "view-in-github",
        "colab_type": "text"
      },
      "source": [
        "<a href=\"https://colab.research.google.com/github/saltaverde/rapid/blob/master/Dijkestra.ipynb\" target=\"_parent\"><img src=\"https://colab.research.google.com/assets/colab-badge.svg\" alt=\"Open In Colab\"/></a>"
      ]
    },
    {
      "cell_type": "markdown",
      "metadata": {
        "id": "0EZwlt-h8ltB"
      },
      "source": [
        "## **Graph Shortest Path algorithm**\n",
        "\n",
        "---\n",
        "\n",
        "\n",
        "Dijkestra's algorithm is breadth-first based search algorithm for directed graphs"
      ]
    },
    {
      "cell_type": "code",
      "metadata": {
        "id": "x8FWf0ldAs2N"
      },
      "source": [
        "class QueueLinkedList:\n",
        "    \"\"\"Implements an efficient first-in first-out Abstract Data Type using a linked List\"\"\"\n",
        "\n",
        "    class Node:\n",
        "        def __init__(self, item):\n",
        "            self.item = item\n",
        "            self.next = None\n",
        "\n",
        "    def __init__(self, capacity):\n",
        "        \"\"\"Creates and empty queue with a capacity\"\"\"\n",
        "        self.capacity = capacity  # Capacity of your queue\n",
        "        self.head = None  # expect an instance of type Node - This is the starting point of the linked list\n",
        "        self.num_items = 0  # number of elements in the queue\n",
        "\n",
        "    def is_empty(self):\n",
        "        \"\"\"Returns true if the queue self is empty and false otherwise\"\"\"\n",
        "        return self.num_items == 0\n",
        "\n",
        "    def is_full(self):\n",
        "        \"\"\"Returns true if the queue self is full and false otherwise\"\"\"\n",
        "        return self.num_items == self.capacity\n",
        "\n",
        "    def enqueue(self, item):\n",
        "        \"\"\"Adds item to the queue\"\"\"\n",
        "        if self.is_full():\n",
        "            raise IndexError('Queue is full!')\n",
        "        new_item = self.Node(item)\n",
        "        if self.head is None:\n",
        "            self.head = new_item\n",
        "        else:\n",
        "            node = self.head\n",
        "            while node.next is not None:\n",
        "                node = node.next\n",
        "            node.next = new_item\n",
        "        self.num_items += 1\n",
        "\n",
        "    def dequeue(self):\n",
        "        \"\"\"Returns the current front of the queue\"\"\"\n",
        "        if self.is_empty():\n",
        "            raise IndexError('Queue is empty!')\n",
        "        node = self.head\n",
        "        self.num_items -= 1\n",
        "        self.head = self.head.next\n",
        "        return node.item\n",
        "\n",
        "    def peek(self):\n",
        "        \"\"\"Returns the value of the item at the front of the queue without removing it\"\"\"\n",
        "        return self.head.item\n",
        "\n",
        "    def size(self):\n",
        "        \"\"\"Returns the number of elements currently in the queue, not the capacity\"\"\"\n",
        "        return self.num_items\n"
      ],
      "execution_count": 27,
      "outputs": []
    },
    {
      "cell_type": "code",
      "metadata": {
        "id": "geGRFoDV8kTT"
      },
      "source": [
        "#@title Graph Representation\n",
        "import math\n",
        "\n",
        "class Vertex:\n",
        "    def __init__(self, key):\n",
        "        self.id = key\n",
        "        self.connectedTo = {}\n",
        "\n",
        "    def addNeighbor(self, nbr, weight=0):\n",
        "        self.connectedTo[nbr] = weight\n",
        "\n",
        "    def __repr__(self):\n",
        "        return str(self.id) + ' connectedTo: ' + str([x.id for x in self.connectedTo])\n",
        "\n",
        "    def getConnections(self):\n",
        "        return self.connectedTo.keys()\n",
        "\n",
        "    def getId(self):\n",
        "        return self.id\n",
        "\n",
        "    def getWeight(self, nbr):\n",
        "        return self.connectedTo[nbr]\n",
        "\n",
        "\n",
        "class Graph:\n",
        "    def __init__(self):\n",
        "        self.vertList = {}\n",
        "        self.numVertices = 0\n",
        "\n",
        "    def addVertex(self, key):\n",
        "        self.numVertices = self.numVertices + 1\n",
        "        newVertex = Vertex(key)\n",
        "        self.vertList[key] = newVertex\n",
        "        return newVertex\n",
        "\n",
        "    def getVertex(self, n):\n",
        "        if n in self.vertList:\n",
        "            return self.vertList[n]\n",
        "        else:\n",
        "            return None\n",
        "\n",
        "    def __contains__(self, n):\n",
        "        return n in self.vertList\n",
        "\n",
        "    def addEdge(self, f, t, weight=1):\n",
        "        if f not in self.vertList:\n",
        "            nv = self.addVertex(f)\n",
        "        if t not in self.vertList:\n",
        "            nv = self.addVertex(t)\n",
        "        self.vertList[f].addNeighbor(self.vertList[t], weight)\n",
        "\n",
        "    def getVertices(self):\n",
        "        return self.vertList.keys()\n",
        "\n",
        "    def __iter__(self):\n",
        "        return iter(self.vertList.values())\n",
        "\n",
        "    def addBiEdge(self, f, t, weight=1):\n",
        "        self.addEdge(f, t, weight)\n",
        "        self.addEdge(t, f, weight)\n",
        "\n",
        "    def shortest_path(self, vertex):\n",
        "        \"\"\"Write your shortest path code here\"\"\"\n",
        "        shortest = {}\n",
        "        keys = self.getVertices()\n",
        "        for key in keys:\n",
        "            if self.vertList[key] is vertex:\n",
        "                shortest[key] = [False, 0, key]\n",
        "            else:\n",
        "                shortest[key] = [False, math.inf, None]\n",
        "        qu = QueueLinkedList(self.numVertices*2)\n",
        "        qu.enqueue(vertex)\n",
        "        while not qu.is_empty():\n",
        "            current = qu.dequeue()\n",
        "            connections = current.getConnections()\n",
        "            for k in connections:\n",
        "                if not shortest[k.id][0]:\n",
        "                    qu.enqueue(k)\n",
        "                cost = current.connectedTo[k] + shortest[current.id][1]\n",
        "                if cost < shortest[k.id][1]: # or shortest[k.id][1] < 0:\n",
        "                    # shortest[k.id] = [False, cost, current.id]\n",
        "                    shortest[k.id][1] = cost\n",
        "                    shortest[k.id][2] = current.id\n",
        "            shortest[current.id][0] = True\n",
        "        return self.build_path(vertex, shortest)\n",
        "\n",
        "    def build_path(self, vertex, shortest_list):\n",
        "        result = []\n",
        "        keys = shortest_list.keys()\n",
        "        for key in keys:\n",
        "            tup = (key, [vertex.id], shortest_list[key][1])\n",
        "            previous = shortest_list[key][2]\n",
        "            while previous is not None and previous is not vertex.id:\n",
        "                tup[1].insert(1, previous)\n",
        "                previous = shortest_list[previous][2]\n",
        "            tup[1].append(key)\n",
        "            result.append(tup)\n",
        "        return result\n"
      ],
      "execution_count": 28,
      "outputs": []
    },
    {
      "cell_type": "markdown",
      "metadata": {
        "id": "GvjGrRjd-QEx"
      },
      "source": [
        "Now that we have the shortest path implemented, we can use it to build the 'Kevin Bacon' game.\n",
        "The first function checks the bacon-degree for a given actor"
      ]
    },
    {
      "cell_type": "code",
      "metadata": {
        "id": "z6Q-JFjP-c6E"
      },
      "source": [
        "def bacon_degree(g, actor):\n",
        "    shortest = g.shortest_path(g.getVertex('Kevin Bacon'))\n",
        "    actor_v = g.getVertex(actor)\n",
        "    if actor_v is not None:\n",
        "        for a in shortest:\n",
        "            if a[0] == actor_v.id:\n",
        "                return a[2]\n",
        "    return -1"
      ],
      "execution_count": 22,
      "outputs": []
    },
    {
      "cell_type": "markdown",
      "metadata": {
        "id": "p4VXQV4o-tXL"
      },
      "source": [
        "The second function finds the actor(s) with the highest bacon-number."
      ]
    },
    {
      "cell_type": "code",
      "metadata": {
        "id": "pczs-FaV-01D"
      },
      "source": [
        "def highest_bacon(g):\n",
        "    shortest = g.shortest_path(g.getVertex('Kevin Bacon'))\n",
        "    highest = 0\n",
        "    actors = set()\n",
        "    for a in shortest:\n",
        "        if a[2] > highest:\n",
        "            actors = set()\n",
        "            highest = a[2]\n",
        "            actors.add((a[0], a[2]))\n",
        "        elif a[2] == highest:\n",
        "            actors.add((a[0], a[2]))\n",
        "    return actors"
      ],
      "execution_count": 23,
      "outputs": []
    },
    {
      "cell_type": "markdown",
      "metadata": {
        "id": "zqyNdira_GX8"
      },
      "source": [
        "The third function checks the number of connections between any pair of actors"
      ]
    },
    {
      "cell_type": "code",
      "metadata": {
        "id": "7P-dw3Bt_Phx"
      },
      "source": [
        "def any_actors_degree(g, actor1, actor2):\n",
        "    shortest = g.shortest_path(g.getVertex(actor1))\n",
        "    actor_v = g.getVertex(actor2)\n",
        "    if actor_v is not None:\n",
        "        for a in shortest:\n",
        "            if a[0] == actor_v.id:\n",
        "                return a[2]\n",
        "    return -1"
      ],
      "execution_count": 24,
      "outputs": []
    },
    {
      "cell_type": "markdown",
      "metadata": {
        "id": "AyZm2xYy_fpC"
      },
      "source": [
        "And now for testing. First we'll build the graph:"
      ]
    },
    {
      "cell_type": "code",
      "metadata": {
        "id": "8qSvlbvx_Ydy"
      },
      "source": [
        "g = Graph()\n",
        "g.addVertex('Kevin Bacon')\n",
        "g.addVertex('Tom Hanks')\n",
        "g.addVertex('Bill Paxton')\n",
        "g.addVertex('Paul Herbert')\n",
        "g.addVertex('Yves Aubert')\n",
        "g.addVertex('Shane Zaza')\n",
        "g.addVertex('Seretta Wilson')\n",
        "g.addVertex('Meryl Streep')\n",
        "g.addVertex('John Beluci')\n",
        "g.addVertex('Kathleen Quinlan')\n",
        "g.addVertex('Donald Sutherland')\n",
        "g.addVertex('Lloyd Bridges')\n",
        "g.addVertex('Grace Kelly')\n",
        "g.addVertex('Nicole Kidman')\n",
        "g.addVertex('Patrick Allen')\n",
        "g.addVertex('Glenn Close')\n",
        "g.addVertex('John Gielgud')\n",
        "g.addVertex('Vernon Dobtcheff')\n",
        "g.addVertex('Kate Winslet')\n",
        "\n",
        "g.addBiEdge('Kevin Bacon', 'Tom Hanks')\n",
        "g.addBiEdge('Kevin Bacon', 'John Beluci')\n",
        "g.addBiEdge('Kevin Bacon', 'Meryl Streep')\n",
        "g.addBiEdge('Kevin Bacon', 'Donald Sutherland')\n",
        "g.addBiEdge('Kevin Bacon', 'Bill Paxton')\n",
        "g.addBiEdge('Kevin Bacon', 'Kathleen Quinlan')\n",
        "g.addBiEdge('Tom Hanks', 'Kathleen Quinlan')\n",
        "g.addBiEdge('Tom Hanks', 'Bill Paxton')\n",
        "g.addBiEdge('Tom Hanks', 'Paul Herbert')\n",
        "g.addBiEdge('Tom Hanks', 'Yves Aubert')\n",
        "g.addBiEdge('Tom Hanks', 'Shane Zaza')\n",
        "g.addBiEdge('Tom Hanks', 'Seretta Wilson')\n",
        "g.addBiEdge('Tom Hanks', 'Lloyd Bridges')\n",
        "g.addBiEdge('Lloyd Bridges', 'Grace Kelly')\n",
        "g.addBiEdge('Donald Sutherland', 'Patrick Allen')\n",
        "g.addBiEdge('Donald Sutherland', 'Nicole Kidman')\n",
        "g.addBiEdge('Donald Sutherland', 'Vernon Dobtcheff')\n",
        "g.addBiEdge('Nicole Kidman', 'Glenn Close')\n",
        "g.addBiEdge('Nicole Kidman', 'John Gielgud')\n",
        "g.addBiEdge('Bill Paxton', 'Kate Winslet')\n",
        "g.addBiEdge('Patrick Allen', 'John Gielgud')\n",
        "g.addBiEdge('Nicole Kidman', 'John Gielgud')\n",
        "g.addBiEdge('Vernon Dobtcheff', 'John Gielgud')"
      ],
      "execution_count": 25,
      "outputs": []
    },
    {
      "cell_type": "markdown",
      "metadata": {
        "id": "c1n3EvEi_l-C"
      },
      "source": [
        "Then we'll try out some names:"
      ]
    },
    {
      "cell_type": "code",
      "metadata": {
        "colab": {
          "base_uri": "https://localhost:8080/"
        },
        "id": "vaeeQ5gn_xKz",
        "outputId": "7736dc60-3090-47e0-c0c9-77210063b77e"
      },
      "source": [
        "bacon_degree(g, 'Kevin Bacon')"
      ],
      "execution_count": 31,
      "outputs": [
        {
          "output_type": "execute_result",
          "data": {
            "text/plain": [
              "0"
            ]
          },
          "metadata": {
            "tags": []
          },
          "execution_count": 31
        }
      ]
    },
    {
      "cell_type": "code",
      "metadata": {
        "colab": {
          "base_uri": "https://localhost:8080/"
        },
        "id": "4AxaBwDwBJ8w",
        "outputId": "2e156e97-cd03-48e7-d2bf-9560185d72c4"
      },
      "source": [
        "bacon_degree(g, 'Tom Hanks')"
      ],
      "execution_count": 32,
      "outputs": [
        {
          "output_type": "execute_result",
          "data": {
            "text/plain": [
              "1"
            ]
          },
          "metadata": {
            "tags": []
          },
          "execution_count": 32
        }
      ]
    },
    {
      "cell_type": "code",
      "metadata": {
        "colab": {
          "base_uri": "https://localhost:8080/"
        },
        "id": "BDrwhpamBJv3",
        "outputId": "490a8a7b-4be4-4faf-fbcd-72daaedff1cd"
      },
      "source": [
        "bacon_degree(g, 'Kate Winslet')"
      ],
      "execution_count": 33,
      "outputs": [
        {
          "output_type": "execute_result",
          "data": {
            "text/plain": [
              "2"
            ]
          },
          "metadata": {
            "tags": []
          },
          "execution_count": 33
        }
      ]
    },
    {
      "cell_type": "code",
      "metadata": {
        "colab": {
          "base_uri": "https://localhost:8080/"
        },
        "id": "0UnegeRfBJjv",
        "outputId": "f279ea1d-8f53-43e2-98cf-5492534e4dd7"
      },
      "source": [
        "bacon_degree(g, 'Glenn Close')"
      ],
      "execution_count": 34,
      "outputs": [
        {
          "output_type": "execute_result",
          "data": {
            "text/plain": [
              "3"
            ]
          },
          "metadata": {
            "tags": []
          },
          "execution_count": 34
        }
      ]
    }
  ]
}